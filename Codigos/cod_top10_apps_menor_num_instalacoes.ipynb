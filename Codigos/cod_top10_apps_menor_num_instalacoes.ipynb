{
 "cells": [
  {
   "cell_type": "code",
   "execution_count": null,
   "metadata": {},
   "outputs": [
    {
     "name": "stdout",
     "output_type": "stream",
     "text": [
      "\n",
      "Top 10 aplicativos com menor número de instalações:\n",
      "EP Cook Book - 0.0 instalações\n",
      "Pekalongan CJ - 0.0 instalações\n",
      "cronometra-br - 0.0 instalações\n",
      "Ain Arabic Kids Alif Ba ta - 0.0 instalações\n",
      "CX Network - 0.0 instalações\n",
      "Popsicle Launcher for Android P 9.0 launcher - 0.0 instalações\n",
      "Command & Conquer: Rivals - 0.0 instalações\n",
      "Sweden Newspapers - 0.0 instalações\n",
      "AP Series Solution Pro - 0.0 instalações\n",
      "EG | Explore Folegandros - 0.0 instalações\n"
     ]
    }
   ],
   "source": [
    "import pandas as pd\n",
    "\n",
    "# Carrega o arquivo CSV e remove duplicatas\n",
    "dataset = pd.read_csv('googleplaystore.csv', sep=',') \n",
    "dataset = dataset.drop_duplicates()\n",
    "\n",
    "# Remoção dos caracteres '+' e ',' e conversão para inteiro\n",
    "dataset['Installs'] = dataset['Installs'].str.replace('+', '', regex=False).str.replace(',', '', regex=False)\n",
    "\n",
    "# Conversão da coluna Installs para o tipo numérico (inteiro ou float). Se houver valores que não possam ser convertidos, eles serão substituídos por NaN (Not a Number) devido ao parâmetro errors='coerce'.\n",
    "dataset['Installs'] = pd.to_numeric(dataset['Installs'], errors='coerce') \n",
    "\n",
    "# Remoção das linhas com número de instalações nulas\n",
    "dataset = dataset.dropna(subset=['Installs'])\n",
    "\n",
    "# Top 10 aplicativos por menor número de instalações\n",
    "top_10_installs = dataset[['App', 'Installs']].sort_values(by='Installs', ascending=True).head(10)\n",
    "\n",
    "# Exibe os aplicativos e suas instalações em formato de valor\n",
    "print(\"\\nTop 10 aplicativos com menor número de instalações:\")\n",
    "for index, row in top_10_installs.iterrows():\n",
    "    print(f\"{row['App']} - {row['Installs']} instalações\")"
   ]
  }
 ],
 "metadata": {
  "kernelspec": {
   "display_name": "Python 3",
   "language": "python",
   "name": "python3"
  },
  "language_info": {
   "codemirror_mode": {
    "name": "ipython",
    "version": 3
   },
   "file_extension": ".py",
   "mimetype": "text/x-python",
   "name": "python",
   "nbconvert_exporter": "python",
   "pygments_lexer": "ipython3",
   "version": "3.13.0"
  }
 },
 "nbformat": 4,
 "nbformat_minor": 2
}
