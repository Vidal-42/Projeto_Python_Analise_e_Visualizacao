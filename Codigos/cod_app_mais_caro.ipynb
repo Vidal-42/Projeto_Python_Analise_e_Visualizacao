{
 "cells": [
  {
   "cell_type": "code",
   "execution_count": 1,
   "metadata": {},
   "outputs": [
    {
     "name": "stdout",
     "output_type": "stream",
     "text": [
      "O aplicativo mais caro é: I'm Rich - Trump Edition com o preço de: 400.0\n"
     ]
    }
   ],
   "source": [
    "import pandas as pd\n",
    "\n",
    "dataset = pd.read_csv('googleplaystore.csv', sep=',') \n",
    "dataset = dataset.drop_duplicates()\n",
    "\n",
    "# Substituição do valor do tipo string 'Free' pelo valor numérico 0\n",
    "dataset['Price'] = dataset['Price'].replace('Free', 0)\n",
    "\n",
    "# Remoção do símbolo de moeda \n",
    "dataset['Price'] = dataset['Price'].str.replace('$', '', regex=False)  \n",
    "\n",
    "# Conversão da coluna 'Price' para float, transformando valores não numéricos em NaN\n",
    "dataset['Price'] = pd.to_numeric(dataset['Price'], errors='coerce')\n",
    "\n",
    "# Uso da função idmax para encontrar o aplicativo mais caro, ignorando o NaN (Not a number), valor especial atribuído a registros que não existem ou inválidos\n",
    "app_mais_caro = dataset.loc[dataset['Price'].idxmax()]\n",
    "\n",
    "# Exibição do nome e o preço do aplicativo mais caro\n",
    "print(f\"O aplicativo mais caro é: {app_mais_caro['App']} com o preço de: {app_mais_caro['Price']}\")"
   ]
  }
 ],
 "metadata": {
  "kernelspec": {
   "display_name": "Python 3",
   "language": "python",
   "name": "python3"
  },
  "language_info": {
   "codemirror_mode": {
    "name": "ipython",
    "version": 3
   },
   "file_extension": ".py",
   "mimetype": "text/x-python",
   "name": "python",
   "nbconvert_exporter": "python",
   "pygments_lexer": "ipython3",
   "version": "3.13.3"
  }
 },
 "nbformat": 4,
 "nbformat_minor": 2
}
