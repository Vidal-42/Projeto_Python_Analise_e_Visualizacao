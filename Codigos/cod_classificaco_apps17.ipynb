{
 "cells": [
  {
   "cell_type": "code",
   "execution_count": null,
   "metadata": {},
   "outputs": [
    {
     "name": "stdout",
     "output_type": "stream",
     "text": [
      "Número de aplicativos classificados como 'Mature 17+': 447\n"
     ]
    }
   ],
   "source": [
    "import pandas as pd\n",
    "\n",
    "# Armazenamento do arquivo CSV 'googleplaystore.csv' no DataFrame 'dataset' \n",
    "dataset = pd.read_csv('googleplaystore.csv', sep=',') # Remoção dos dados duplicados\n",
    "dataset = dataset.drop_duplicates()\n",
    "\n",
    "# Contagem do número de aplicativos classificados como 'Mature 17+'\n",
    "mature_apps_count = len(dataset[dataset['Content Rating'] == 'Mature 17+'])\n",
    "\n",
    "# Exibição do resultado\n",
    "print(f\"Número de aplicativos classificados como 'Mature 17+': {mature_apps_count}\")"
   ]
  }
 ],
 "metadata": {
  "kernelspec": {
   "display_name": "Python 3",
   "language": "python",
   "name": "python3"
  },
  "language_info": {
   "codemirror_mode": {
    "name": "ipython",
    "version": 3
   },
   "file_extension": ".py",
   "mimetype": "text/x-python",
   "name": "python",
   "nbconvert_exporter": "python",
   "pygments_lexer": "ipython3",
   "version": "3.13.0"
  }
 },
 "nbformat": 4,
 "nbformat_minor": 2
}
