{
 "cells": [
  {
   "cell_type": "code",
   "execution_count": 1,
   "metadata": {},
   "outputs": [
    {
     "name": "stdout",
     "output_type": "stream",
     "text": [
      "Top 10 aplicativos por número de reviews:\n",
      "                                     App    Reviews\n",
      "                                Facebook 78158306.0\n",
      "                                Facebook 78128208.0\n",
      "                      WhatsApp Messenger 69119316.0\n",
      "                      WhatsApp Messenger 69109672.0\n",
      "                               Instagram 66577446.0\n",
      "                               Instagram 66577313.0\n",
      "                               Instagram 66509917.0\n",
      "Messenger – Text and Video Chat for Free 56646578.0\n",
      "Messenger – Text and Video Chat for Free 56642847.0\n",
      "                          Clash of Clans 44893888.0\n"
     ]
    }
   ],
   "source": [
    "import pandas as pd\n",
    "\n",
    "dataset = pd.read_csv('googleplaystore.csv', sep=',') \n",
    "dataset = dataset.drop_duplicates()\n",
    "\n",
    "# Converção da coluna 'Reviews' para o tipo numérico \n",
    "dataset['Reviews'] = pd.to_numeric(dataset['Reviews'], errors='coerce')\n",
    "\n",
    "# Ordenação do dataset pela coluna 'Reviews' em ordem decrescente e selecioção dos 10 primeiros\n",
    "top_10_apps = dataset[['App', 'Reviews']].sort_values(by='Reviews', ascending=False).head(10)\n",
    "\n",
    "# Exibição dos resultados\n",
    "print(\"Top 10 aplicativos por número de reviews:\")\n",
    "print(top_10_apps[['App', 'Reviews']].to_string(index=False))"
   ]
  }
 ],
 "metadata": {
  "kernelspec": {
   "display_name": "Python 3",
   "language": "python",
   "name": "python3"
  },
  "language_info": {
   "codemirror_mode": {
    "name": "ipython",
    "version": 3
   },
   "file_extension": ".py",
   "mimetype": "text/x-python",
   "name": "python",
   "nbconvert_exporter": "python",
   "pygments_lexer": "ipython3",
   "version": "3.13.0"
  }
 },
 "nbformat": 4,
 "nbformat_minor": 2
}
