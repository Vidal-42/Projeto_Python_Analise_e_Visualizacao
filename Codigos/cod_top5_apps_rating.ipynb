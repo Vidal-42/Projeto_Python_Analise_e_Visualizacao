{
 "cells": [
  {
   "cell_type": "code",
   "execution_count": null,
   "metadata": {},
   "outputs": [
    {
     "name": "stdout",
     "output_type": "stream",
     "text": [
      "\n",
      "Top 5 aplicativos por Rating (classificação):\n",
      "top_5_list = [\n",
      "    'Life Made WI-Fi Touchscreen Photo Frame - 19.0 estrelas',\n",
      "    'EF Forms - 5.0 estrelas',\n",
      "    'EF App - 5.0 estrelas',\n",
      "    'Ra Ga Ba - 5.0 estrelas',\n",
      "    'EG India - 5.0 estrelas',\n",
      "]\n"
     ]
    }
   ],
   "source": [
    "import pandas as pd\n",
    "\n",
    "dataset = pd.read_csv('googleplaystore.csv', sep=',') \n",
    "dataset = dataset.drop_duplicates()\n",
    "\n",
    "# Conversão da coluna 'Rating' para o tipo numérico \n",
    "dataset['Rating'] = pd.to_numeric(dataset['Rating'], errors='coerce')\n",
    "\n",
    "# Remoção das linhas com ratings nulos\n",
    "dataset = dataset.dropna(subset=['Rating'])\n",
    "\n",
    "# Top 5 aplicativos por classificação (Rating)\n",
    "top_5_ratings = dataset[['App', 'Rating']].sort_values(by='Rating', ascending=False).head(5)\n",
    "\n",
    "# Inicialização da lista para armazenar os resultados\n",
    "top_5_list = []\n",
    "\n",
    "# Preenche a lista com os aplicativos e suas classificações\n",
    "for index, row in top_5_ratings.iterrows():\n",
    "    top_5_list.append(f\"{row['App']} - {row['Rating']} estrelas\")\n",
    "\n",
    "# Apresentação da Lista\n",
    "print(\"\\nTop 5 aplicativos por Rating (classificação):\")\n",
    "print(\"top_5_list = [\")\n",
    "for item in top_5_list:\n",
    "    print(f\"    '{item}',\")\n",
    "print(\"]\")"
   ]
  }
 ],
 "metadata": {
  "kernelspec": {
   "display_name": "Python 3",
   "language": "python",
   "name": "python3"
  },
  "language_info": {
   "codemirror_mode": {
    "name": "ipython",
    "version": 3
   },
   "file_extension": ".py",
   "mimetype": "text/x-python",
   "name": "python",
   "nbconvert_exporter": "python",
   "pygments_lexer": "ipython3",
   "version": "3.13.0"
  }
 },
 "nbformat": 4,
 "nbformat_minor": 2
}
